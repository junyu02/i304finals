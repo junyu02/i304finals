{
 "cells": [
  {
   "cell_type": "code",
   "execution_count": 1,
   "id": "13c69741-c7a1-4e58-a2c1-c5333f25e46f",
   "metadata": {},
   "outputs": [
    {
     "name": "stdout",
     "output_type": "stream",
     "text": [
      "Welcome to the Epic Text Adventure Game!\n",
      "You find yourself in a mystical forest with two mysterious caves.\n",
      "A wise old owl hoots, 'Choose your path wisely, brave adventurer.'\n",
      "Which path will you take? (1 or 2)\n"
     ]
    },
    {
     "name": "stdin",
     "output_type": "stream",
     "text": [
      "Enter your choice:  2\n"
     ]
    },
    {
     "name": "stdout",
     "output_type": "stream",
     "text": [
      "You embark on your journey...\n",
      "The forest is filled with enchanting creatures and sparkling fireflies.\n",
      "As you reach a clearing, you encounter a magical portal.\n",
      "Now, a crucial decision awaits:\n",
      "1. Step through the portal.\n",
      "2. Explore the forest further.\n"
     ]
    },
    {
     "name": "stdin",
     "output_type": "stream",
     "text": [
      "Enter your decision (1 or 2):  1\n"
     ]
    },
    {
     "name": "stdout",
     "output_type": "stream",
     "text": [
      "You step through the portal and find yourself in a different realm.\n",
      "Congratulations! You've unlocked a secret quest!\n"
     ]
    }
   ],
   "source": [
    "import time\n",
    "\n",
    "def game_intro():\n",
    "    print(\"Welcome to the Epic Text Adventure Game!\")\n",
    "    time.sleep(2)\n",
    "    print(\"You find yourself in a mystical forest with two mysterious caves.\")\n",
    "    time.sleep(2)\n",
    "    print(\"A wise old owl hoots, 'Choose your path wisely, brave adventurer.'\")\n",
    "    time.sleep(2)\n",
    "\n",
    "def choose_path():\n",
    "    path = \"\"\n",
    "    while path != \"1\" and path != \"2\":\n",
    "        print(\"Which path will you take? (1 or 2)\")\n",
    "        path = input(\"Enter your choice: \")\n",
    "    return path\n",
    "\n",
    "def explore_path(chosen_path):\n",
    "    print(\"You embark on your journey...\")\n",
    "    time.sleep(2)\n",
    "    print(\"The forest is filled with enchanting creatures and sparkling fireflies.\")\n",
    "    time.sleep(2)\n",
    "    print(\"As you reach a clearing, you encounter a magical portal.\")\n",
    "    time.sleep(2)\n",
    "    print(\"Now, a crucial decision awaits:\")\n",
    "    time.sleep(2)\n",
    "    print(\"1. Step through the portal.\")\n",
    "    time.sleep(2)\n",
    "    print(\"2. Explore the forest further.\")\n",
    "    time.sleep(2)\n",
    "\n",
    "    decision = \"\"\n",
    "    while decision != \"1\" and decision != \"2\":\n",
    "        decision = input(\"Enter your decision (1 or 2): \")\n",
    "\n",
    "    if decision == \"1\":\n",
    "        print(\"You step through the portal and find yourself in a different realm.\")\n",
    "        time.sleep(2)\n",
    "        print(\"Congratulations! You've unlocked a secret quest!\")\n",
    "        # You can add more adventures for the secret quest here.\n",
    "    else:\n",
    "        print(\"You continue to explore the mystical forest.\")\n",
    "        time.sleep(2)\n",
    "        print(\"Suddenly, a magical creature appears before you.\")\n",
    "        time.sleep(2)\n",
    "        print(\"It offers you a challenge:\")\n",
    "        time.sleep(2)\n",
    "        print(\"1. Accept the challenge.\")\n",
    "        time.sleep(2)\n",
    "        print(\"2. Politely decline and continue exploring.\")\n",
    "\n",
    "        challenge_choice = \"\"\n",
    "        while challenge_choice != \"1\" and challenge_choice != \"2\":\n",
    "            challenge_choice = input(\"Enter your choice (1 or 2): \")\n",
    "\n",
    "        if challenge_choice == \"1\":\n",
    "            print(\"You accept the challenge and embark on a thrilling quest!\")\n",
    "            # You can add more challenges and outcomes here.\n",
    "        else:\n",
    "            print(\"You decide to decline the challenge and peacefully explore the forest.\")\n",
    "\n",
    "def play_game():\n",
    "    game_intro()\n",
    "    chosen_path = choose_path()\n",
    "    explore_path(chosen_path)\n",
    "\n",
    "play_game()"
   ]
  },
  {
   "cell_type": "markdown",
   "id": "41df2c9c-9ec6-4e22-b102-551fc080c8ea",
   "metadata": {},
   "source": []
  }
 ],
 "metadata": {
  "kernelspec": {
   "display_name": "Python 3 (ipykernel)",
   "language": "python",
   "name": "python3"
  },
  "language_info": {
   "codemirror_mode": {
    "name": "ipython",
    "version": 3
   },
   "file_extension": ".py",
   "mimetype": "text/x-python",
   "name": "python",
   "nbconvert_exporter": "python",
   "pygments_lexer": "ipython3",
   "version": "3.12.0"
  }
 },
 "nbformat": 4,
 "nbformat_minor": 5
}
