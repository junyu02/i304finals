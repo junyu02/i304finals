{
 "cells": [
  {
   "cell_type": "code",
   "execution_count": null,
   "id": "13c69741-c7a1-4e58-a2c1-c5333f25e46f",
   "metadata": {},
   "outputs": [
    {
     "name": "stdout",
     "output_type": "stream",
     "text": [
      "Welcome to the Text Adventure Game!\n",
      "You find yourself standing in front of a dark cave.\n",
      "A voice echoes from inside the cave, 'Enter and face your destiny.'\n",
      "Which cave will you enter? (1 or 2)\n"
     ]
    },
    {
     "name": "stdin",
     "output_type": "stream",
     "text": [
      " 2\n"
     ]
    },
    {
     "name": "stdout",
     "output_type": "stream",
     "text": [
      "You approach the cave...\n",
      "It's dark and spooky inside.\n",
      "You see a shiny door at the end of the cave.\n",
      "It's time to make a choice:\n",
      "1. Go through the door.\n",
      "2. Turn back and leave the cave.\n"
     ]
    }
   ],
   "source": [
    "import time\n",
    "\n",
    "def game_intro():\n",
    "    print(\"Welcome to the Text Adventure Game!\")\n",
    "    time.sleep(2)\n",
    "    print(\"You find yourself standing in front of a dark cave.\")\n",
    "    time.sleep(2)\n",
    "    print(\"A voice echoes from inside the cave, 'Enter and face your destiny.'\")\n",
    "    time.sleep(2)\n",
    "\n",
    "def choose_cave():\n",
    "    cave = \"\"\n",
    "    while cave != \"1\" and cave != \"2\":\n",
    "        print(\"Which cave will you enter? (1 or 2)\")\n",
    "        cave = input()\n",
    "    return cave\n",
    "\n",
    "def explore_cave(chosen_cave):\n",
    "    print(\"You approach the cave...\")\n",
    "    time.sleep(2)\n",
    "    print(\"It's dark and spooky inside.\")\n",
    "    time.sleep(2)\n",
    "    print(\"You see a shiny door at the end of the cave.\")\n",
    "    time.sleep(2)\n",
    "    print(\"It's time to make a choice:\")\n",
    "    time.sleep(2)\n",
    "    print(\"1. Go through the door.\")\n",
    "    time.sleep(2)\n",
    "    print(\"2. Turn back and leave the cave.\")\n",
    "    time.sleep(2)\n",
    "\n",
    "    choice = \"\"\n",
    "    while choice != \"1\" and choice != \"2\":\n",
    "        choice = input(\"Enter your choice (1 or 2): \")\n",
    "\n",
    "    if choice == \"1\":\n",
    "        print(\"You enter the shiny door...\")\n",
    "        time.sleep(2)\n",
    "        print(\"Congratulations! You've found a treasure chest!\")\n",
    "    else:\n",
    "        print(\"You quickly leave the cave.\")\n",
    "        time.sleep(2)\n",
    "        print(\"You're safe outside.\")\n",
    "\n",
    "def play_game():\n",
    "    game_intro()\n",
    "    chosen_cave = choose_cave()\n",
    "    explore_cave(chosen_cave)\n",
    "\n",
    "play_game()"
   ]
  },
  {
   "cell_type": "code",
   "execution_count": null,
   "id": "1c9f208b-6767-4507-9c91-06fd2e53d10f",
   "metadata": {},
   "outputs": [],
   "source": []
  }
 ],
 "metadata": {
  "kernelspec": {
   "display_name": "Python 3 (ipykernel)",
   "language": "python",
   "name": "python3"
  },
  "language_info": {
   "codemirror_mode": {
    "name": "ipython",
    "version": 3
   },
   "file_extension": ".py",
   "mimetype": "text/x-python",
   "name": "python",
   "nbconvert_exporter": "python",
   "pygments_lexer": "ipython3",
   "version": "3.12.0"
  }
 },
 "nbformat": 4,
 "nbformat_minor": 5
}
